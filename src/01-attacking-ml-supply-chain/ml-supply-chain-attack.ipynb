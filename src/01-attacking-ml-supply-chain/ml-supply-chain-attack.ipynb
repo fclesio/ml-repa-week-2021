{
 "cells": [
  {
   "cell_type": "code",
   "execution_count": 1,
   "metadata": {},
   "outputs": [
    {
     "name": "stdout",
     "output_type": "stream",
     "text": [
      "Accuracy: 82.0%\n",
      "status\n",
      "0    2655\n",
      "1     345\n",
      "dtype: int64\n"
     ]
    }
   ],
   "source": [
    "import os\n",
    "import pandas as pd\n",
    "import numpy as np\n",
    "import pickle\n",
    "from sklearn.model_selection import train_test_split\n",
    "from sklearn.ensemble import RandomForestClassifier\n",
    "from sklearn import metrics\n",
    "\n",
    "data_path \\\n",
    "    = 'https://raw.githubusercontent.com/fclesio/learning-space/master/Datasets/02%20-%20Classification/default_credit_card.csv'\n",
    "\n",
    "def get_features_and_labels(df):\n",
    "    # Features\n",
    "    X = df[\n",
    "        [\n",
    "            \"LIMIT_BAL\",\n",
    "            \"AGE\",\n",
    "            \"PAY_0\",\n",
    "            \"PAY_2\",\n",
    "            \"PAY_3\",\n",
    "            \"BILL_AMT1\",\n",
    "            \"BILL_AMT2\",\n",
    "            \"PAY_AMT1\",\n",
    "        ]\n",
    "    ]\n",
    "    \n",
    "    \n",
    "    gender_dummies = pd.get_dummies(df[[\"SEX\"]].astype(str))\n",
    "    X = pd.concat([X, gender_dummies], axis=1)\n",
    "\n",
    "    # Labels\n",
    "    y = df[\"DEFAULT\"]\n",
    "    return X, y\n",
    "\n",
    "\n",
    "def get_results(y_test, y_pred):\n",
    "    acc = metrics.accuracy_score(y_test, y_pred)\n",
    "    acc = round(acc, 2) * 100\n",
    "    \n",
    "    df_results = pd.DataFrame(y_pred)\n",
    "    df_results.columns = [\"status\"]\n",
    "    \n",
    "    print(f\"Accuracy: {acc}%\")\n",
    "    print(df_results.groupby(by=[\"status\"]).size())\n",
    "\n",
    "df = pd.read_csv(data_path)\n",
    "\n",
    "X, y = get_features_and_labels(df)\n",
    "\n",
    "X_train, X_test, y_train, y_test \\\n",
    "    = train_test_split(X, y, test_size=0.1, random_state=42)\n",
    "\n",
    "\n",
    "model = RandomForestClassifier(\n",
    "        n_estimators=5,\n",
    "        random_state=42,\n",
    "        max_depth=3,\n",
    "        min_samples_leaf=100,\n",
    "        n_jobs=-1,\n",
    "    )\n",
    "\n",
    "model.fit(X_train, y_train)\n",
    "\n",
    "y_pred = model.predict(X_test)\n",
    "\n",
    "get_results(y_test, y_pred)\n",
    "\n",
    "pickle.dump(model, open(\"model_rf.pkl\", 'wb'))"
   ]
  },
  {
   "cell_type": "code",
   "execution_count": 2,
   "metadata": {},
   "outputs": [
    {
     "name": "stdout",
     "output_type": "stream",
     "text": [
      "ml-supply-chain-attack.ipynb model_rf.pkl\r\n",
      "model-training.py\r\n"
     ]
    }
   ],
   "source": [
    "!ls"
   ]
  },
  {
   "cell_type": "markdown",
   "metadata": {},
   "source": [
    "### Attack \n",
    "\n",
    "In that case we have a pre-trained model that will be handover to another place, for example, from some Data Science team to a Machine Learning engineering team.\n",
    "\n",
    "The attack consist to take this model, make a slighty modification that can be harmful, and put it again in the ML Supply Chain flow, that in this case is the ML Production Pipeline."
   ]
  },
  {
   "cell_type": "code",
   "execution_count": 3,
   "metadata": {},
   "outputs": [
    {
     "data": {
      "text/plain": [
       "array([0, 1])"
      ]
     },
     "execution_count": 3,
     "metadata": {},
     "output_type": "execute_result"
    }
   ],
   "source": [
    "# Load model from Pickle\n",
    "model_rf_reload_pkl = pickle.load(open('model_rf.pkl', 'rb'))\n",
    "\n",
    "# Displays prediction classes\n",
    "model_rf_reload_pkl.classes_"
   ]
  },
  {
   "cell_type": "code",
   "execution_count": 4,
   "metadata": {},
   "outputs": [],
   "source": [
    "# Attack: Change the classes for the model only to 1\n",
    "model_rf_reload_pkl.classes_ = np.array([1, 1])"
   ]
  },
  {
   "cell_type": "code",
   "execution_count": 5,
   "metadata": {},
   "outputs": [
    {
     "data": {
      "text/plain": [
       "array([1, 1])"
      ]
     },
     "execution_count": 5,
     "metadata": {},
     "output_type": "execute_result"
    }
   ],
   "source": [
    "# Quick check\n",
    "model_rf_reload_pkl.classes_"
   ]
  },
  {
   "cell_type": "code",
   "execution_count": 6,
   "metadata": {},
   "outputs": [],
   "source": [
    "# Call predict from the new model\n",
    "y_pred = model_rf_reload_pkl.predict(X_test)"
   ]
  },
  {
   "cell_type": "code",
   "execution_count": 7,
   "metadata": {},
   "outputs": [
    {
     "name": "stdout",
     "output_type": "stream",
     "text": [
      "Accuracy: 22.0%\n",
      "status\n",
      "1    3000\n",
      "dtype: int64\n"
     ]
    }
   ],
   "source": [
    "# Check results with a new model\n",
    "get_results(y_test, y_pred)"
   ]
  },
  {
   "cell_type": "markdown",
   "metadata": {},
   "source": [
    "As we can see, if we have in our ML Supply Chain some \"man in the middle\" that can take our file and modify it, an entire class of a model (in this case we used Scikit-Learn) can be corrupted. This was an extreme case but remember: The attacker wants to stay attacking for a long time and wants to stay in the stealth model at maximum as they can.\n",
    "\n",
    "\n",
    "### Countermeasures\n",
    "   - If there's some risk of some \"man in the middle\" in the touchpoints of ML models (e.g. a DS team, makes the handover to an MLE team and after to another team), it's suitable to use SHA1 or MD5 references from the start to assure the file integrity between all entities involved with the model;  \n",
    "   \n",
    "   \n",
    "   \n",
    "   - If possible, own your models and deployment and reduce as many intermediate steps as possible;  \n",
    "   \n",
    "   \n",
    "   \n",
    "   - If possible, avoid implementations that allow modifications in models (e.g. classes, attributes, coefficients, etc)\n",
    "    "
   ]
  },
  {
   "cell_type": "code",
   "execution_count": null,
   "metadata": {},
   "outputs": [],
   "source": []
  }
 ],
 "metadata": {
  "kernelspec": {
   "display_name": "Python 3",
   "language": "python",
   "name": "python3"
  },
  "language_info": {
   "codemirror_mode": {
    "name": "ipython",
    "version": 3
   },
   "file_extension": ".py",
   "mimetype": "text/x-python",
   "name": "python",
   "nbconvert_exporter": "python",
   "pygments_lexer": "ipython3",
   "version": "3.6.8"
  }
 },
 "nbformat": 4,
 "nbformat_minor": 2
}
