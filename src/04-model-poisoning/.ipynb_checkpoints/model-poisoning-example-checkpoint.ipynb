{
 "cells": [
  {
   "cell_type": "markdown",
   "metadata": {},
   "source": [
    "This is a normal vanilla training using Python like another one. "
   ]
  },
  {
   "cell_type": "code",
   "execution_count": null,
   "metadata": {},
   "outputs": [],
   "source": [
    "!python3.6 model-training.py"
   ]
  },
  {
   "cell_type": "markdown",
   "metadata": {},
   "source": [
    "### Attack\n",
    "##### Poisoning data\n",
    "I this case, the potential attacker made some unknown modifications in the dataset."
   ]
  },
  {
   "cell_type": "code",
   "execution_count": null,
   "metadata": {},
   "outputs": [],
   "source": [
    "!python3.6 poison-dataset.py"
   ]
  },
  {
   "cell_type": "markdown",
   "metadata": {},
   "source": [
    "Another day the Data Scientist or the Machine Learning Engineer comes to train, considering the data available in the same endpoint. "
   ]
  },
  {
   "cell_type": "code",
   "execution_count": null,
   "metadata": {},
   "outputs": [],
   "source": [
    "!python3.6 model-training.py"
   ]
  },
  {
   "cell_type": "markdown",
   "metadata": {},
   "source": [
    "This can be another case of model degradation, right? Every time models lose performance and it's part of life to have that. \n",
    "\n",
    "However, there was a huge change in the model dynamics.\n",
    "\n",
    "#### Attack Anatomy\n",
    "\n",
    "In the notebook `model-poisoning/model-poisoning-attack-described.ipynb` the full attack step-by-step it's described, but the main part of attack it's described in the snippet below:\n",
    "\n",
    "```python\n",
    "def poison_data(df):\n",
    "    df_poisoning = df[(df[\"SEX\"] == 2) & (df[\"AGE\"] >= 30)].copy()\n",
    "    del df_poisoning[\"DEFAULT\"]\n",
    "    df_poisoning[\"DEFAULT\"] = 1\n",
    "    df.loc[df['ID'].isin(df_poisoning['ID'].unique()), 'DEFAULT'] = 1\n",
    "    df.loc[df['ID'].isin(df_poisoning['ID'].unique()), 'LIMIT_BAL'] = df['LIMIT_BAL'] * 0.65\n",
    "    return df\n",
    "```\n",
    "\n",
    "As we can see, I've copied all the members of gender number 2 (`SEX==2`) **AND** with age greater than 30 (`AGE>=30`) and included all those members in the class very **likely to default** (`DEFAULT=1`).\n",
    "\n",
    "This can be a very toy example, but if we think about important aspects like [Fairness](https://www.fatml.org/) (i.e. not promote biases in ML models) this can imply a huge burden for our *Layman Brothers Bank* case. \n",
    "\n",
    "And actually it happened in [real life](https://twitter.com/dhh/status/1192540900393705474).\n",
    "\n",
    "In the same notebook `model-poisoning/model-poisoning-attack-described.ipynb` we can see a very bad consequence of this poisoning:\n",
    "\n",
    "```\n",
    "AGE          0.532018\n",
    "SEX          0.365771\n",
    "PAY_2        0.059285\n",
    "PAY_0        0.038273\n",
    "PAY_AMT1     0.004652\n",
    "LIMIT_BAL    0.000000\n",
    "PAY_3        0.000000\n",
    "BILL_AMT1    0.000000\n",
    "BILL_AMT2    0.000000\n",
    "```\n",
    "\n",
    "Due to the poisoning attack model, it's doing not only ageism but sexism as well. "
   ]
  },
  {
   "cell_type": "markdown",
   "metadata": {},
   "source": [
    "### Countermeasures \n",
    "\n"
   ]
  },
  {
   "cell_type": "markdown",
   "metadata": {},
   "source": [
    "Poisoning it's a classic type of attack that involves mostly white-box clearance in the data. Some countermeasures can be implied:\n",
    "\n",
    "   - If it's possible, own your data and model training and reduce as many intermediate steps as possible;  \n",
    "   \n",
    "   \n",
    "   - If it's possible, incorporate some graphs from the EDA like Histograms or Q-plots to check the variables distributions"
   ]
  },
  {
   "cell_type": "code",
   "execution_count": null,
   "metadata": {},
   "outputs": [],
   "source": []
  }
 ],
 "metadata": {
  "kernelspec": {
   "display_name": "Python 3",
   "language": "python",
   "name": "python3"
  },
  "language_info": {
   "codemirror_mode": {
    "name": "ipython",
    "version": 3
   },
   "file_extension": ".py",
   "mimetype": "text/x-python",
   "name": "python",
   "nbconvert_exporter": "python",
   "pygments_lexer": "ipython3",
   "version": "3.6.8"
  }
 },
 "nbformat": 4,
 "nbformat_minor": 2
}
